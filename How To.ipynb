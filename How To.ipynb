{
 "cells": [
  {
   "cell_type": "markdown",
   "metadata": {},
   "source": [
    "## Using Deep Learning to Classify Images of Cats and Dogs"
   ]
  },
  {
   "cell_type": "markdown",
   "metadata": {},
   "source": [
    "### Requirements:\n",
    "* TensorFlow 1.6\n",
    "* Keras 2.2.1\n",
    "* Python 3.6.6\n"
   ]
  },
  {
   "cell_type": "markdown",
   "metadata": {},
   "source": [
    "### Getting our data\n",
    "\n",
    "For this tutorial we will use the popular [Cats and Dogs dataset on Kaggle](https://www.kaggle.com/c/dogs-vs-cats/data). We will download and extract the training images to a `data/imgs/`. We will split these images into train and test sets.\n",
    "\n",
    "This data set contains *25,000* images in total (12,500 images of Dogs and 12,500 images of Cats).\n",
    "\n",
    "\n",
    "First our imports:"
   ]
  },
  {
   "cell_type": "code",
   "execution_count": null,
   "metadata": {},
   "outputs": [],
   "source": [
    "import os\n",
    "from tqdm import tqdm\n",
    "import shutil\n",
    "import numpy as np"
   ]
  },
  {
   "cell_type": "markdown",
   "metadata": {},
   "source": [
    "The first function will take a image file and return the type of animal in the image. Since our images are of the form animal.number.jpg we can get the first part of the file name to sort our images.\n",
    "\n",
    "Prepare folders will create two separate directories `train` and `test` that will hold a portions of out dataset to train our model.\n",
    "\n",
    "Out test dataset is more accurately called a **validation set** since we have a seperate set of images we will use to test our model. And our **test set** is actually a portion of out training set. But to keep it simple we will just refer to is as our test set.\n",
    "\n",
    "**Repopulate** is just a flag to set whether or not you want to re-copy images from the `data/imgs/` folder again.\n"
   ]
  },
  {
   "cell_type": "code",
   "execution_count": null,
   "metadata": {},
   "outputs": [],
   "source": [
    "def get_name(path):\n",
    "    fname = os.path.basename(path)\n",
    "    fname = path.split('.')\n",
    "    return fname[0]\n",
    "\n",
    "def prepare_folders(test_size, repopulate=False):\n",
    "    base_dir = os.path.abspath(\"data\")\n",
    "    train_dir = os.path.join(base_dir, \"train\")\n",
    "    test_dir = os.path.join(base_dir, \"test\")\n",
    "    if repopulate:\n",
    "        try:\n",
    "            shutil.rmtree(train_dir)\n",
    "        except FileNotFoundError:\n",
    "            print(\"Creating a Train folder\")\n",
    "\n",
    "        os.mkdir(train_dir)\n",
    "        os.mkdir(os.path.join(train_dir, \"cats\"))\n",
    "        os.mkdir(os.path.join(train_dir, \"dogs\"))\n",
    "\n",
    "        try:\n",
    "            shutil.rmtree(test_dir)\n",
    "        except FileNotFoundError:\n",
    "            print(\"Creating Test folder\")\n",
    "\n",
    "        os.mkdir(test_dir)\n",
    "        os.mkdir(os.path.join(test_dir, \"cats\"))\n",
    "        os.mkdir(os.path.join(test_dir, \"dogs\"))"
   ]
  },
  {
   "cell_type": "markdown",
   "metadata": {},
   "source": [
    "Now that we will have three folders in our `data/` folder. `imgs/`, `train/` and `test/`. Next we will load all the image paths to separate lists based on the image type."
   ]
  },
  {
   "cell_type": "code",
   "execution_count": null,
   "metadata": {},
   "outputs": [],
   "source": [
    "    # load data\n",
    "    cats = []\n",
    "    dogs = []\n",
    "    base_path = os.path.join(os.getcwd(), \"data\", \"imgs\")\n",
    "    for item in tqdm(os.listdir(base_path), desc=\"Getting path names\"):\n",
    "        name = get_name(item)\n",
    "        if name == \"cat\":\n",
    "            cats.append(item)\n",
    "        else:\n",
    "            dogs.append(item)\n",
    "\n",
    "    assert len(cats) == len(dogs)\n",
    "\n",
    "    image_set_size = len(os.listdir(base_path))\n",
    "    num_test_imgs = int(image_set_size * test_size)"
   ]
  },
  {
   "cell_type": "markdown",
   "metadata": {},
   "source": [
    "Now we copy images from our dataset to its respective `train/` or `test/` folder. When splitting up our images we need to make sure that we have around the same number of images for each type in each set. If we train the model with more dog images and less cats images then the model does not have enough information to model the cats and will fail in our test set."
   ]
  },
  {
   "cell_type": "code",
   "execution_count": null,
   "metadata": {},
   "outputs": [],
   "source": [
    "# split train valid test\n",
    "    if repopulate:\n",
    "        for i in tqdm(range(num_test_imgs // 2), desc=\"Building test set for Cats\"):\n",
    "            shutil.copy(os.path.join(\n",
    "                base_path, cats[i]), os.path.join(test_dir, \"cats\"))\n",
    "\n",
    "        for i in tqdm(range(num_test_imgs // 2), desc=\"Building test set Dogs\"):\n",
    "            shutil.copy(os.path.join(\n",
    "                base_path, dogs[i]), os.path.join(test_dir, \"dogs\"))\n",
    "\n",
    "        for i in tqdm(range(num_test_imgs // 2, len(cats)), desc=\"Building train set for Cats\"):\n",
    "            shutil.copy(os.path.join(\n",
    "                base_path, cats[i]), os.path.join(train_dir, \"cats\"))\n",
    "\n",
    "        for i in tqdm(range(num_test_imgs // 2, len(dogs)), desc=\"Building train set Dogs\"):\n",
    "            shutil.copy(os.path.join(\n",
    "                base_path, dogs[i]), os.path.join(train_dir, \"dogs\"))\n",
    "    try:\n",
    "        train_size_calc = len(os.listdir(os.path.join(\n",
    "            train_dir, \"cats\"))) + len(os.listdir(os.path.join(train_dir, \"dogs\")))\n",
    "        test_size_calc = len(os.listdir(os.path.join(\n",
    "            test_dir, \"cats\"))) + len(os.listdir(os.path.join(test_dir, \"dogs\")))\n",
    "        print(\n",
    "            f\"Dataset Size: {image_set_size}\\nTrain Size:{train_size_calc}\\nTest Size: {test_size_calc}\")\n",
    "    except FileNotFoundError:\n",
    "        print(\"No test sets found\")\n",
    "\n",
    "    return base_dir, train_dir, test_dir\n",
    "\n",
    "base_dir, train_dir, test_dir = prepare_folders(test_size=0.2)"
   ]
  },
  {
   "cell_type": "markdown",
   "metadata": {},
   "source": [
    "Now we have a train set and test set that is split from the orginal dataset. Now we can construct our model.\n",
    "\n",
    "We will first create and train our own model from scratch.\n",
    "\n",
    "## Creating our own Convolutional Neural Network\n",
    "\n",
    "This tutorial does not go into depth on what a CNN is or how it works.\n",
    "\n",
    "But ultimately a CNN distills an image into a different representation that is easier to train on a artificial neural network and results in the less weights during training.\n",
    "\n",
    "#### Image Augmentation\n",
    "\n",
    "Since out dataset is small and to prevent overfitting we will use Image Augmentation to add noise to our training images. Keras provides a well documented easy to use API to do so."
   ]
  },
  {
   "cell_type": "code",
   "execution_count": null,
   "metadata": {},
   "outputs": [],
   "source": [
    "from time import time\n",
    "from keras import models, layers, optimizers\n",
    "from keras.preprocessing.image import ImageDataGenerator\n",
    "import matplotlib.pyplot as plt\n",
    "from keras.callbacks import TensorBoard\n",
    "\n",
    "train_datagen = ImageDataGenerator(\n",
    "        rescale=1./255,\n",
    "        rotation_range=40,\n",
    "        width_shift_range=0.2,\n",
    "        height_shift_range=0.2,\n",
    "        shear_range=0.2,\n",
    "        zoom_range=0.2,\n",
    "        horizontal_flip=True\n",
    "    )\n",
    "\n",
    "val_datagen = ImageDataGenerator(rescale=1./255)\n",
    "\n",
    "train_gen = train_datagen.flow_from_directory(\n",
    "    train_dir,\n",
    "    target_size=(150, 150),\n",
    "    batch_size=32,\n",
    "    class_mode='binary')\n",
    "\n",
    "validation_gen = val_datagen.flow_from_directory(\n",
    "    test_dir,\n",
    "    target_size=(150, 150),\n",
    "    batch_size=32,\n",
    "    class_mode='binary'\n",
    ")"
   ]
  },
  {
   "cell_type": "markdown",
   "metadata": {},
   "source": [
    "### Defining our Model"
   ]
  },
  {
   "cell_type": "code",
   "execution_count": null,
   "metadata": {},
   "outputs": [],
   "source": [
    "model = models.Sequential()\n",
    "model.add(layers.SeparableConv2D(32, (3, 3), activation='relu', input_shape=(150, 150, 3)))\n",
    "model.add(layers.MaxPooling2D(2, 2))\n",
    "model.add(layers.SeparableConv2D(64, (3, 3), activation='relu'))\n",
    "model.add(layers.MaxPooling2D(2, 2))\n",
    "model.add(layers.SeparableConv2D(128, (3, 3), activation='relu'))\n",
    "model.add(layers.MaxPooling2D(2, 2))\n",
    "model.add(layers.Flatten())\n",
    "model.add(layers.Dropout(0.5))\n",
    "model.add(layers.Dense(512, activation='relu'))\n",
    "model.add(layers.Dense(1, activation='sigmoid'))\n",
    "\n",
    "print(model.summary())\n",
    "\n",
    "model.compile(loss=\"binary_crossentropy\", optimizer=optimizers.RMSprop(lr=1e-4), metrics=[\"acc\"])"
   ]
  },
  {
   "cell_type": "markdown",
   "metadata": {},
   "source": [
    "### Tracking our Progress with TensorBoard"
   ]
  },
  {
   "cell_type": "code",
   "execution_count": null,
   "metadata": {},
   "outputs": [],
   "source": [
    "try:\n",
    "    os.mkdir(\"logs\")\n",
    "except FileExistsError:\n",
    "    print(\"Previous Logs found\")\n",
    "\n",
    "tensorboard = TensorBoard(log_dir=\"logs/{}\".format(time()))\n",
    "history = model.fit_generator(\n",
    "    train_gen,\n",
    "    steps_per_epoch=100,\n",
    "    epochs=100,\n",
    "    validation_data=validation_gen,\n",
    "    validation_steps=50,\n",
    "    callbacks=[tensorboard]\n",
    ")"
   ]
  },
  {
   "cell_type": "markdown",
   "metadata": {},
   "source": [
    "### Saving our model"
   ]
  },
  {
   "cell_type": "code",
   "execution_count": null,
   "metadata": {},
   "outputs": [],
   "source": [
    "model_save_path = os.path.join(base_dir, \"saves\")\n",
    "try:\n",
    "    os.mkdir(model_save_path)\n",
    "except FileExistsError:\n",
    "    print(\"Previous Models Found\")\n",
    "\n",
    "try:\n",
    "    model.save(os.path.join(model_save_path,'cats_and_dogs_{}.h5'.format(time())))\n",
    "except ModuleNotFoundError as e:\n",
    "    print(\"No h5py found\", e)\n",
    "except OSError as e:\n",
    "    print(\"Write permission denied\", e)"
   ]
  },
  {
   "cell_type": "markdown",
   "metadata": {},
   "source": [
    "### Plotting Our Results"
   ]
  },
  {
   "cell_type": "code",
   "execution_count": null,
   "metadata": {},
   "outputs": [],
   "source": [
    "acc = history.history[\"acc\"]\n",
    "val_acc = history.history['val_acc']\n",
    "loss = history.history['loss']\n",
    "val_loss = history.history['val_loss']\n",
    "\n",
    "epochs = range(1, len(acc) + 1)\n",
    "\n",
    "plt.plot(epochs, acc, 'bo', label='Training acc')\n",
    "plt.plot(epochs, val_acc, 'b', label='Validation_acc')\n",
    "plt.title('Training and Validation accuracy')\n",
    "\n",
    "plt.legend()\n",
    "plt.figure()\n",
    "\n",
    "plt.plot(epochs, loss, 'bo', label='Training loss')\n",
    "plt.plot(epochs, val_loss, 'b', label='Validation loss')\n",
    "plt.title('Training and validation loss')\n",
    "plt.legend()\n",
    "plt.show()"
   ]
  },
  {
   "cell_type": "markdown",
   "metadata": {},
   "source": [
    "## Using a Pretrained Model -- VGG16\n",
    "\n",
    "Creating our own model from scratch and training 25,000 images will only get us so far before our results plateau.\n",
    "\n",
    "We can use **Transfer Learning** which leverages models previously trained for a different use to be adapted to our use case. A popular model to use is the VGG16 model which has 16 layers and can output 1000 different classes.\n",
    "\n",
    "### Separable Conv 2D\n",
    "\n",
    "A newer type of Convolutional Layer called the Separable Convolutional Layer is gaining ground and requires less weights. And in Deep Learning if you can get lower weights it is always the better option."
   ]
  },
  {
   "cell_type": "code",
   "execution_count": null,
   "metadata": {},
   "outputs": [],
   "source": [
    "model = models.Sequential()\n",
    "model.add(layers.SeparableConv2D(32, (3, 3), activation='relu', input_shape=(150, 150, 3)))\n",
    "model.add(layers.MaxPooling2D(2, 2))\n",
    "model.add(layers.SeparableConv2D(64, (3, 3), activation='relu'))\n",
    "model.add(layers.MaxPooling2D(2, 2))\n",
    "model.add(layers.SeparableConv2D(128, (3, 3), activation='relu'))\n",
    "model.add(layers.MaxPooling2D(2, 2))\n",
    "model.add(layers.Flatten())\n",
    "model.add(layers.Dropout(0.5))\n",
    "model.add(layers.Dense(512, activation='relu'))\n",
    "model.add(layers.Dense(1, activation='sigmoid'))\n",
    "\n",
    "model.compile(loss=\"binary_crossentropy\", optimizer=optimizers.RMSprop(lr=1e-4), metrics=[\"acc\"])"
   ]
  }
 ],
 "metadata": {
  "kernelspec": {
   "display_name": "Python 3",
   "language": "python",
   "name": "python3"
  },
  "language_info": {
   "codemirror_mode": {
    "name": "ipython",
    "version": 3
   },
   "file_extension": ".py",
   "mimetype": "text/x-python",
   "name": "python",
   "nbconvert_exporter": "python",
   "pygments_lexer": "ipython3",
   "version": "3.7.1"
  }
 },
 "nbformat": 4,
 "nbformat_minor": 2
}
